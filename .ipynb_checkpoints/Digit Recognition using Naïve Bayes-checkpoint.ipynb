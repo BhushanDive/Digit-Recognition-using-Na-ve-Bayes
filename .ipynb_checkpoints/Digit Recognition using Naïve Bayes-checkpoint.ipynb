{
 "cells": [
  {
   "cell_type": "markdown",
   "id": "81b5aca0",
   "metadata": {},
   "source": [
    " # <center> Digit Recognition using Naïve Bayes </center>"
   ]
  },
  {
   "cell_type": "markdown",
   "id": "97d58618",
   "metadata": {},
   "source": [
    "***"
   ]
  },
  {
   "cell_type": "markdown",
   "id": "786d37d1",
   "metadata": {},
   "source": [
    "### Name : Bhushan Dive\n",
    "### Roll no : 42\n",
    "### Section : A "
   ]
  },
  {
   "cell_type": "markdown",
   "id": "fbdf0865",
   "metadata": {},
   "source": [
    "***"
   ]
  },
  {
   "cell_type": "markdown",
   "id": "dd67c81a",
   "metadata": {},
   "source": [
    "## What is Handwritten Digit Recognition?\n",
    "\n",
    "The handwritten digit recognition is the ability of computers to recognize human handwritten digits. It is a hard task for the machine because handwritten digits are not perfect and can be made with many different flavors. The handwritten digit recognition is the solution to this problem which uses the image of a digit and recognizes the digit present in the image."
   ]
  },
  {
   "cell_type": "markdown",
   "id": "8cbe9844",
   "metadata": {},
   "source": [
    "***"
   ]
  },
  {
   "cell_type": "markdown",
   "id": "dade6f4f",
   "metadata": {},
   "source": [
    "## Naïve Bayes Classifier Algorithm\n",
    "- Naïve Bayes algorithm is a supervised learning algorithm, which is based on **Bayes theorem** and used for solving classification problems.\n",
    "- Naïve Bayes Classifier is one of the simple and most effective Classification algorithms which helps in building the fast machine learning models that can make quick predictions.\n",
    "- It is a probabilistic classifier, which means it predicts on the basis of the probability of an object."
   ]
  },
  {
   "cell_type": "markdown",
   "id": "7fc7ac73",
   "metadata": {},
   "source": [
    "***"
   ]
  },
  {
   "cell_type": "markdown",
   "id": "3b075981",
   "metadata": {},
   "source": [
    "## Why is it called Naïve Bayes?\n",
    "The Naïve Bayes algorithm is comprised of two words Naïve and Bayes, Which can be described as:\n",
    "\n",
    "-   **Naïve**: It is called Naïve because it assumes that the occurrence of a certain feature is independent of the occurrence of other features. Such as if the fruit is identified on the bases of color, shape, and taste, then red, spherical, and sweet fruit is recognized as an apple. Hence each feature individually contributes to identify that it is an apple without depending on each other.\n",
    "- **Bayes**: It is called Bayes because it depends on the principle of Bayes Theorem."
   ]
  },
  {
   "cell_type": "markdown",
   "id": "c6049f6f",
   "metadata": {},
   "source": [
    "***"
   ]
  },
  {
   "attachments": {
    "Pasted%20image%2020221012221340.png": {
     "image/png": "[encoded data removed]"
    }
   },
   "cell_type": "markdown",
   "id": "59d8afa5",
   "metadata": {},
   "source": [
    "## Bayes' Theorem:\n",
    "\n",
    "- Bayes' theorem is also known as **Bayes' Rule** or **Bayes' law**, which is used to determine the probability of a hypothesis with prior knowledge. It depends on the conditional probability.\n",
    "- The formula for Bayes' theorem is given as:\n",
    "\n",
    "![Pasted%20image%2020221012221340.png](attachment:Pasted%20image%2020221012221340.png)\n",
    "\n",
    "**Where,**\n",
    "**P(A|B) is Posterior probability**: Probability of hypothesis A on the observed event B.\n",
    "\n",
    "**P(B|A) is Likelihood probability**: Probability of the evidence given that the probability of a hypothesis is true."
   ]
  },
  {
   "cell_type": "markdown",
   "id": "3c8b829a",
   "metadata": {},
   "source": [
    "***"
   ]
  },
  {
   "cell_type": "markdown",
   "id": "94cac489",
   "metadata": {},
   "source": [
    "## MNIST database\n",
    "\n",
    "The **MNIST database** Modified National Institute of Standards and Technology database is a large database of handwritten digits that is commonly used for training various image processing systems.\n",
    "\n",
    "The MNIST Dataset is a collection of 28 * 28 pixel handwritten grayscale images of numbers from 0 to 9 in different styles.\n",
    "\n",
    "The MNIST Dataset contains 60,000 training images and 10,000 testing images. "
   ]
  },
  {
   "cell_type": "markdown",
   "id": "918ff04b",
   "metadata": {},
   "source": [
    "***"
   ]
  },
  {
   "cell_type": "code",
   "execution_count": 1,
   "id": "ccd838f8",
   "metadata": {},
   "outputs": [
    {
     "name": "stdout",
     "output_type": "stream",
     "text": [
      "Success\n"
     ]
    }
   ],
   "source": [
    "import numpy as np\n",
    "import matplotlib.pyplot as plt\n",
    "from sklearn.naive_bayes import GaussianNB\n",
    "from sklearn.metrics import confusion_matrix\n",
    "from tensorflow.keras.datasets import mnist\n",
    "print('Success')"
   ]
  },
  {
   "cell_type": "code",
   "execution_count": 2,
   "id": "f5ff2a3e",
   "metadata": {},
   "outputs": [],
   "source": [
    "(x_train, y_train), (x_test, y_test) = mnist.load_data()\n",
    "# Loading MNIST data and splitting it in train test \n",
    "x_train = x_train.reshape(60000,784)\n",
    "x_test = x_test.reshape(10000,784)\n",
    "# test data is of 60,000 images and 784 is the number of pixel values in an imaage ie 28 * 28"
   ]
  },
  {
   "cell_type": "code",
   "execution_count": 3,
   "id": "d23cb3bb",
   "metadata": {},
   "outputs": [
    {
     "data": {
      "text/plain": [
       "array([[0, 0, 0, ..., 0, 0, 0],\n",
       "       [0, 0, 0, ..., 0, 0, 0],\n",
       "       [0, 0, 0, ..., 0, 0, 0],\n",
       "       ...,\n",
       "       [0, 0, 0, ..., 0, 0, 0],\n",
       "       [0, 0, 0, ..., 0, 0, 0],\n",
       "       [0, 0, 0, ..., 0, 0, 0]], dtype=uint8)"
      ]
     },
     "execution_count": 3,
     "metadata": {},
     "output_type": "execute_result"
    }
   ],
   "source": [
    "x_train"
   ]
  },
  {
   "cell_type": "code",
   "execution_count": 4,
   "id": "64a70299",
   "metadata": {},
   "outputs": [
    {
     "data": {
      "text/plain": [
       "array([  0,   0,   0,   0,   0,   0,   0,   0,   0,   0,   0,   0,   0,\n",
       "         0,   0,   0,   0,   0,   0,   0,   0,   0,   0,   0,   0,   0,\n",
       "         0,   0,   0,   0,   0,   0,   0,   0,   0,   0,   0,   0,   0,\n",
       "         0,   0,   0,   0,   0,   0,   0,   0,   0,   0,   0,   0,   0,\n",
       "         0,   0,   0,   0,   0,   0,   0,   0,   0,   0,   0,   0,   0,\n",
       "         0,   0,   0,   0,   0,   0,   0,   0,   0,   0,   0,   0,   0,\n",
       "         0,   0,   0,   0,   0,   0,   0,   0,   0,   0,   0,   0,   0,\n",
       "         0,   0,   0,   0,   0,   0,   0,   0,   0,   0,   0,   0,   0,\n",
       "         0,   0,   0,   0,   0,   0,   0,   0,   0,   0,   0,   0,   0,\n",
       "         0,   0,   0,   0,   0,   0,   0,   0,   0,   0,  51, 159, 253,\n",
       "       159,  50,   0,   0,   0,   0,   0,   0,   0,   0,   0,   0,   0,\n",
       "         0,   0,   0,   0,   0,   0,   0,   0,   0,   0,   0,  48, 238,\n",
       "       252, 252, 252, 237,   0,   0,   0,   0,   0,   0,   0,   0,   0,\n",
       "         0,   0,   0,   0,   0,   0,   0,   0,   0,   0,   0,   0,  54,\n",
       "       227, 253, 252, 239, 233, 252,  57,   6,   0,   0,   0,   0,   0,\n",
       "         0,   0,   0,   0,   0,   0,   0,   0,   0,   0,   0,   0,  10,\n",
       "        60, 224, 252, 253, 252, 202,  84, 252, 253, 122,   0,   0,   0,\n",
       "         0,   0,   0,   0,   0,   0,   0,   0,   0,   0,   0,   0,   0,\n",
       "         0, 163, 252, 252, 252, 253, 252, 252,  96, 189, 253, 167,   0,\n",
       "         0,   0,   0,   0,   0,   0,   0,   0,   0,   0,   0,   0,   0,\n",
       "         0,   0,  51, 238, 253, 253, 190, 114, 253, 228,  47,  79, 255,\n",
       "       168,   0,   0,   0,   0,   0,   0,   0,   0,   0,   0,   0,   0,\n",
       "         0,   0,   0,  48, 238, 252, 252, 179,  12,  75, 121,  21,   0,\n",
       "         0, 253, 243,  50,   0,   0,   0,   0,   0,   0,   0,   0,   0,\n",
       "         0,   0,   0,   0,  38, 165, 253, 233, 208,  84,   0,   0,   0,\n",
       "         0,   0,   0, 253, 252, 165,   0,   0,   0,   0,   0,   0,   0,\n",
       "         0,   0,   0,   0,   0,   7, 178, 252, 240,  71,  19,  28,   0,\n",
       "         0,   0,   0,   0,   0, 253, 252, 195,   0,   0,   0,   0,   0,\n",
       "         0,   0,   0,   0,   0,   0,   0,  57, 252, 252,  63,   0,   0,\n",
       "         0,   0,   0,   0,   0,   0,   0, 253, 252, 195,   0,   0,   0,\n",
       "         0,   0,   0,   0,   0,   0,   0,   0,   0, 198, 253, 190,   0,\n",
       "         0,   0,   0,   0,   0,   0,   0,   0,   0, 255, 253, 196,   0,\n",
       "         0,   0,   0,   0,   0,   0,   0,   0,   0,   0,  76, 246, 252,\n",
       "       112,   0,   0,   0,   0,   0,   0,   0,   0,   0,   0, 253, 252,\n",
       "       148,   0,   0,   0,   0,   0,   0,   0,   0,   0,   0,   0,  85,\n",
       "       252, 230,  25,   0,   0,   0,   0,   0,   0,   0,   0,   7, 135,\n",
       "       253, 186,  12,   0,   0,   0,   0,   0,   0,   0,   0,   0,   0,\n",
       "         0,  85, 252, 223,   0,   0,   0,   0,   0,   0,   0,   0,   7,\n",
       "       131, 252, 225,  71,   0,   0,   0,   0,   0,   0,   0,   0,   0,\n",
       "         0,   0,   0,  85, 252, 145,   0,   0,   0,   0,   0,   0,   0,\n",
       "        48, 165, 252, 173,   0,   0,   0,   0,   0,   0,   0,   0,   0,\n",
       "         0,   0,   0,   0,   0,  86, 253, 225,   0,   0,   0,   0,   0,\n",
       "         0, 114, 238, 253, 162,   0,   0,   0,   0,   0,   0,   0,   0,\n",
       "         0,   0,   0,   0,   0,   0,   0,  85, 252, 249, 146,  48,  29,\n",
       "        85, 178, 225, 253, 223, 167,  56,   0,   0,   0,   0,   0,   0,\n",
       "         0,   0,   0,   0,   0,   0,   0,   0,   0,  85, 252, 252, 252,\n",
       "       229, 215, 252, 252, 252, 196, 130,   0,   0,   0,   0,   0,   0,\n",
       "         0,   0,   0,   0,   0,   0,   0,   0,   0,   0,   0,  28, 199,\n",
       "       252, 252, 253, 252, 252, 233, 145,   0,   0,   0,   0,   0,   0,\n",
       "         0,   0,   0,   0,   0,   0,   0,   0,   0,   0,   0,   0,   0,\n",
       "         0,  25, 128, 252, 253, 252, 141,  37,   0,   0,   0,   0,   0,\n",
       "         0,   0,   0,   0,   0,   0,   0,   0,   0,   0,   0,   0,   0,\n",
       "         0,   0,   0,   0,   0,   0,   0,   0,   0,   0,   0,   0,   0,\n",
       "         0,   0,   0,   0,   0,   0,   0,   0,   0,   0,   0,   0,   0,\n",
       "         0,   0,   0,   0,   0,   0,   0,   0,   0,   0,   0,   0,   0,\n",
       "         0,   0,   0,   0,   0,   0,   0,   0,   0,   0,   0,   0,   0,\n",
       "         0,   0,   0,   0,   0,   0,   0,   0,   0,   0,   0,   0,   0,\n",
       "         0,   0,   0,   0,   0,   0,   0,   0,   0,   0,   0,   0,   0,\n",
       "         0,   0,   0,   0,   0,   0,   0,   0,   0,   0,   0,   0,   0,\n",
       "         0,   0,   0,   0,   0,   0,   0,   0,   0,   0,   0,   0,   0,\n",
       "         0,   0,   0,   0], dtype=uint8)"
      ]
     },
     "execution_count": 4,
     "metadata": {},
     "output_type": "execute_result"
    }
   ],
   "source": [
    "x_train[1]"
   ]
  },
  {
   "cell_type": "code",
   "execution_count": 5,
   "id": "82080ddb",
   "metadata": {
    "scrolled": true
   },
   "outputs": [
    {
     "data": {
      "image/png": "[encoded data removed]",
      "text/plain": [
       "<Figure size 432x288 with 1 Axes>"
      ]
     },
     "metadata": {
      "needs_background": "light"
     },
     "output_type": "display_data"
    }
   ],
   "source": [
    "plt.imshow(x_train[1].reshape((28,28)), cmap = 'gray')\n",
    "plt.show()"
   ]
  },
  {
   "cell_type": "code",
   "execution_count": 6,
   "id": "94857d49",
   "metadata": {},
   "outputs": [],
   "source": [
    "naive_bayes_model = GaussianNB()\n",
    "#Building the Model"
   ]
  },
  {
   "cell_type": "code",
   "execution_count": 7,
   "id": "af3374da",
   "metadata": {},
   "outputs": [],
   "source": [
    "fit_model = naive_bayes_model.fit(x_train, y_train)"
   ]
  },
  {
   "cell_type": "code",
   "execution_count": 8,
   "id": "f48a5009",
   "metadata": {},
   "outputs": [
    {
     "name": "stdout",
     "output_type": "stream",
     "text": [
      "[[ 870    0    3    5    2    5   31    1   35   28]\n",
      " [   0 1079    2    1    0    0   10    0   38    5]\n",
      " [  79   25  266   91    5    2  269    4  271   20]\n",
      " [  32   39    6  353    2    3   51    8  409  107]\n",
      " [  19    2    5    4  168    7   63    7  210  497]\n",
      " [  71   25    1   20    3   44   40    2  586  100]\n",
      " [  12   12    3    1    1    7  895    0   26    1]\n",
      " [   0   15    2   10    5    1    5  280   39  671]\n",
      " [  13   72    3    7    3   11   12    4  648  201]\n",
      " [   5    7    3    6    1    0    1   13   18  955]]\n"
     ]
    }
   ],
   "source": [
    "predictions = fit_model.predict(x_test)\n",
    "conf_matrix = confusion_matrix(y_test, predictions)\n",
    "print(conf_matrix)"
   ]
  },
  {
   "cell_type": "code",
   "execution_count": 9,
   "id": "ab094a7b",
   "metadata": {},
   "outputs": [],
   "source": [
    "#Diagonal elements are true positives"
   ]
  },
  {
   "cell_type": "code",
   "execution_count": 10,
   "id": "08654adc",
   "metadata": {},
   "outputs": [],
   "source": [
    "# Taking sum of all TP \n",
    "def diagonal_ele_sum(conf_matrix):\n",
    "    sum = 0\n",
    "    for i in range(10):\n",
    "        for j in range(10):\n",
    "            if (i==j):\n",
    "                sum += conf_matrix[i,j]\n",
    "    return sum"
   ]
  },
  {
   "cell_type": "code",
   "execution_count": 11,
   "id": "f40ef772",
   "metadata": {},
   "outputs": [
    {
     "name": "stdout",
     "output_type": "stream",
     "text": [
      "5558\n",
      "Accuracy %:0.5558\n"
     ]
    }
   ],
   "source": [
    "sum = diagonal_ele_sum(conf_matrix)\n",
    "print(sum)\n",
    "print(f'Accuracy %:{sum/10000}')\n",
    "# Finding Accuracy of the model"
   ]
  },
  {
   "cell_type": "code",
   "execution_count": 12,
   "id": "0c3fcaae",
   "metadata": {},
   "outputs": [
    {
     "data": {
      "text/plain": [
       "array([5, 0, 4, ..., 5, 6, 8], dtype=uint8)"
      ]
     },
     "execution_count": 12,
     "metadata": {},
     "output_type": "execute_result"
    }
   ],
   "source": [
    "y_train"
   ]
  },
  {
   "cell_type": "code",
   "execution_count": 13,
   "id": "2c7fb353",
   "metadata": {},
   "outputs": [],
   "source": [
    "unique, counts = np.unique(y_train, return_counts=True)"
   ]
  },
  {
   "cell_type": "code",
   "execution_count": 14,
   "id": "1880bee7",
   "metadata": {},
   "outputs": [
    {
     "data": {
      "text/plain": [
       "{0: 5923,\n",
       " 1: 6742,\n",
       " 2: 5958,\n",
       " 3: 6131,\n",
       " 4: 5842,\n",
       " 5: 5421,\n",
       " 6: 5918,\n",
       " 7: 6265,\n",
       " 8: 5851,\n",
       " 9: 5949}"
      ]
     },
     "execution_count": 14,
     "metadata": {},
     "output_type": "execute_result"
    }
   ],
   "source": [
    "dict(zip(unique, counts))"
   ]
  },
  {
   "cell_type": "code",
   "execution_count": 16,
   "id": "176669f1",
   "metadata": {},
   "outputs": [
    {
     "name": "stdout",
     "output_type": "stream",
     "text": [
      "[[5206    9   33   16    9   13  165    5  356  111]\n",
      " [   4 6341   15   33    3   12   74    4  173   83]\n",
      " [ 484  152 1786  474   33   37 1443   17 1444   88]\n",
      " [ 274  295   49 2277   11   15  268   46 2274  622]\n",
      " [ 114   39   49   33 1027   35  483   21 1259 2782]\n",
      " [ 525  122   33  125   34  336  273   11 3411  551]\n",
      " [  47   92   25    3    4   19 5572    0  148    8]\n",
      " [  27   36    9   54   51    8   15 1919  190 3956]\n",
      " [  88  722   23   51   19   33   80    6 3802 1027]\n",
      " [  30   31   17    7   33    4    4   83  112 5628]]\n"
     ]
    }
   ],
   "source": [
    "predictions_2 = fit_model.predict(x_train)\n",
    "conf_matrix_2 = confusion_matrix(y_train, predictions_2)\n",
    "print(conf_matrix_2)"
   ]
  },
  {
   "cell_type": "code",
   "execution_count": 17,
   "id": "5473bcdc",
   "metadata": {},
   "outputs": [
    {
     "name": "stdout",
     "output_type": "stream",
     "text": [
      "33894\n",
      "Accuracy %: 0.5649\n"
     ]
    }
   ],
   "source": [
    "sum_2 = diagonal_ele_sum(conf_matrix_2)\n",
    "print(sum_2)\n",
    "print(f'Accuracy %: {sum_2/60000}')"
   ]
  },
  {
   "cell_type": "code",
   "execution_count": 18,
   "id": "c30dffc9",
   "metadata": {},
   "outputs": [],
   "source": [
    "# Creating a heatmap of testing dataset"
   ]
  },
  {
   "cell_type": "code",
   "execution_count": 19,
   "id": "b2fcee68",
   "metadata": {},
   "outputs": [
    {
     "data": {
      "image/png": "[encoded data removed]",
      "text/plain": [
       "<Figure size 432x288 with 1 Axes>"
      ]
     },
     "metadata": {
      "needs_background": "light"
     },
     "output_type": "display_data"
    }
   ],
   "source": [
    "plt.imshow(conf_matrix, cmap='inferno',interpolation='nearest')\n",
    "plt.xlabel('predictions')\n",
    "plt.ylabel('actual_values')\n",
    "plt.show()"
   ]
  },
  {
   "cell_type": "code",
   "execution_count": 20,
   "id": "19327863",
   "metadata": {},
   "outputs": [],
   "source": [
    "# Brighter colors means higher values."
   ]
  },
  {
   "cell_type": "code",
   "execution_count": 21,
   "id": "8c7a4666",
   "metadata": {},
   "outputs": [
    {
     "data": {
      "image/png": "[encoded data removed]",
      "text/plain": [
       "<Figure size 432x288 with 1 Axes>"
      ]
     },
     "metadata": {
      "needs_background": "light"
     },
     "output_type": "display_data"
    }
   ],
   "source": [
    "plt.imshow(conf_matrix_2, cmap='inferno',interpolation='nearest')\n",
    "plt.xlabel('predictions')\n",
    "plt.ylabel('actual_values')\n",
    "plt.show()"
   ]
  },
  {
   "cell_type": "code",
   "execution_count": 22,
   "id": "0c864558",
   "metadata": {},
   "outputs": [],
   "source": [
    "#heatmap of confusion matrix 2"
   ]
  }
 ],
 "metadata": {
  "kernelspec": {
   "display_name": "Python 3 (ipykernel)",
   "language": "python",
   "name": "python3"
  },
  "language_info": {
   "codemirror_mode": {
    "name": "ipython",
    "version": 3
   },
   "file_extension": ".py",
   "mimetype": "text/x-python",
   "name": "python",
   "nbconvert_exporter": "python",
   "pygments_lexer": "ipython3",
   "version": "3.9.12"
  }
 },
 "nbformat": 4,
 "nbformat_minor": 5
}
