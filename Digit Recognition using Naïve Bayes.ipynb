{
 "cells": [
  {
   "cell_type": "markdown",
   "id": "81b5aca0",
   "metadata": {},
   "source": [
    " # <center> Digit Recognition using Naïve Bayes </center>"
   ]
  },
  {
   "cell_type": "markdown",
   "id": "786d37d1",
   "metadata": {},
   "source": [
    "### Name : Bhushan Dive\n",
    "### Roll no : 42\n",
    "### Section : A "
   ]
  },
  {
   "cell_type": "markdown",
   "id": "fbdf0865",
   "metadata": {},
   "source": [
    "***"
   ]
  },
  {
   "cell_type": "markdown",
   "id": "460e6f0d",
   "metadata": {},
   "source": [
    "## What is Handwritten Digit Recognition?\n",
    "\n",
    "The handwritten digit recognition is the ability of computers to recognize human handwritten digits. It is a hard task for the machine because handwritten digits are not perfect and can be made with many different flavors. The handwritten digit recognition is the solution to this problem which uses the image of a digit and recognizes the digit present in the image."
   ]
  },
  {
   "cell_type": "markdown",
   "id": "8cbe9844",
   "metadata": {},
   "source": [
    "***"
   ]
  },
  {
   "cell_type": "markdown",
   "id": "dade6f4f",
   "metadata": {},
   "source": [
    "## Naïve Bayes Classifier Algorithm\n",
    "- Naïve Bayes algorithm is a supervised learning algorithm, which is based on **Bayes theorem** and used for solving classification problems.\n",
    "- Naïve Bayes Classifier is one of the simple and most effective Classification algorithms which helps in building the fast machine learning models that can make quick predictions.\n",
    "- It is a probabilistic classifier, which means it predicts on the basis of the probability of an object."
   ]
  },
  {
   "cell_type": "markdown",
   "id": "7fc7ac73",
   "metadata": {},
   "source": [
    "***"
   ]
  },
  {
   "cell_type": "markdown",
   "id": "3b075981",
   "metadata": {},
   "source": [
    "## Why is it called Naïve Bayes?\n",
    "The Naïve Bayes algorithm is comprised of two words Naïve and Bayes, Which can be described as:\n",
    "\n",
    "-   **Naïve**: It is called Naïve because it assumes that the occurrence of a certain feature is independent of the occurrence of other features. Such as if the fruit is identified on the bases of color, shape, and taste, then red, spherical, and sweet fruit is recognized as an apple. Hence each feature individually contributes to identify that it is an apple without depending on each other.\n",
    "- **Bayes**: It is called Bayes because it depends on the principle of Bayes Theorem."
   ]
  },
  {
   "cell_type": "markdown",
   "id": "c6049f6f",
   "metadata": {},
   "source": [
    "***"
   ]
  },
  {
   "attachments": {
    "Pasted%20image%2020221012221340.png": {
     "image/png": "[encoded data removed]"
    }
   },
   "cell_type": "markdown",
   "id": "59d8afa5",
   "metadata": {},
   "source": [
    "## Bayes' Theorem:\n",
    "\n",
    "- Bayes' theorem is also known as **Bayes' Rule** or **Bayes' law**, which is used to determine the probability of a hypothesis with prior knowledge. It depends on the conditional probability.\n",
    "- The formula for Bayes' theorem is given as:\n",
    "\n",
    "![Pasted%20image%2020221012221340.png](attachment:Pasted%20image%2020221012221340.png)\n",
    "\n",
    "**Where,**\n",
    "**P(A|B) is Posterior probability**: Probability of hypothesis A on the observed event B.\n",
    "\n",
    "**P(B|A) is Likelihood probability**: Probability of the evidence given that the probability of a hypothesis is true."
   ]
  },
  {
   "cell_type": "code",
   "execution_count": null,
   "id": "56fecf63",
   "metadata": {},
   "outputs": [],
   "source": []
  }
 ],
 "metadata": {
  "kernelspec": {
   "display_name": "Python 3 (ipykernel)",
   "language": "python",
   "name": "python3"
  },
  "language_info": {
   "codemirror_mode": {
    "name": "ipython",
    "version": 3
   },
   "file_extension": ".py",
   "mimetype": "text/x-python",
   "name": "python",
   "nbconvert_exporter": "python",
   "pygments_lexer": "ipython3",
   "version": "3.9.12"
  }
 },
 "nbformat": 4,
 "nbformat_minor": 5
}
